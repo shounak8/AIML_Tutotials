{
 "cells": [
  {
   "cell_type": "code",
   "execution_count": null,
   "metadata": {},
   "outputs": [],
   "source": [
    "# Dataset Link: https://www.kaggle.com/datasets/deepcontractor/is-that-santa-image-classification"
   ]
  },
  {
   "cell_type": "code",
   "execution_count": null,
   "metadata": {},
   "outputs": [],
   "source": [
    "# Step by Step Approach\n",
    "# 1. Import libraries\n",
    "# 2. Load Data\n",
    "# 3. Build Model\n",
    "# 4. Train & Evaluate the Model"
   ]
  },
  {
   "cell_type": "markdown",
   "metadata": {},
   "source": [
    "# Step 1: Import Libraries & Set Processing Device\n"
   ]
  },
  {
   "cell_type": "code",
   "execution_count": 35,
   "metadata": {},
   "outputs": [],
   "source": [
    "# Libraries\n",
    "import numpy as np\n",
    "from tqdm import tqdm\n",
    "from time import time\n",
    "from PIL import Image\n",
    "\n",
    "import torch\n",
    "from torch.optim import Adam\n",
    "from torch.nn import CrossEntropyLoss, Conv2d, AvgPool2d, BatchNorm2d, Dropout2d, LeakyReLU, Linear, Module\n",
    "from torch.utils.data import DataLoader\n",
    "\n",
    "from torchvision.transforms import transforms\n",
    "from torchvision.datasets import ImageFolder\n",
    "\n",
    "# Device\n",
    "device = torch.device(\"cuda\" if torch.cuda.is_available() else \"cpu\")"
   ]
  },
  {
   "cell_type": "markdown",
   "metadata": {},
   "source": [
    "# Step 2: Load Data\n",
    "#### A. Data Transformer\n",
    "#### B. Create Dataset\n",
    "#### C. Data Loader"
   ]
  },
  {
   "cell_type": "code",
   "execution_count": 3,
   "metadata": {},
   "outputs": [],
   "source": [
    "# Data Transformer\n",
    "tfm = transforms.Compose([\n",
    "    transforms.Resize((128, 128)),\n",
    "    transforms.RandomHorizontalFlip(),\n",
    "    transforms.RandomRotation(degrees=10),\n",
    "    transforms.ToTensor(),\n",
    "    transforms.Normalize([0.5, 0.5, 0.5], [0.5, 0.5, 0.5])\n",
    "])"
   ]
  },
  {
   "cell_type": "code",
   "execution_count": 5,
   "metadata": {},
   "outputs": [],
   "source": [
    "# Create Dataset\n",
    "TRAIN_ROOT = \"is that santa/train\"\n",
    "TEST_ROOT = \"is that santa/test\"\n",
    "\n",
    "train_ds = ImageFolder(TRAIN_ROOT, transform = tfm)\n",
    "test_ds = ImageFolder(TEST_ROOT, transform = tfm)\n",
    "\n",
    "# Length of Train and Test Datasets\n",
    "len_train = len(train_ds)\n",
    "len_test = len(test_ds)"
   ]
  },
  {
   "cell_type": "code",
   "execution_count": 6,
   "metadata": {},
   "outputs": [
    {
     "data": {
      "text/plain": [
       "{'not-a-santa': 0, 'santa': 1}"
      ]
     },
     "execution_count": 6,
     "metadata": {},
     "output_type": "execute_result"
    }
   ],
   "source": [
    "# Index Mapping\n",
    "train_ds.class_to_idx"
   ]
  },
  {
   "cell_type": "code",
   "execution_count": 7,
   "metadata": {},
   "outputs": [],
   "source": [
    "# Data Loader\n",
    "train_loader = DataLoader(train_ds, batch_size = 30, shuffle=True)\n",
    "test_loader = DataLoader(test_ds, batch_size = 30, shuffle=True)"
   ]
  },
  {
   "cell_type": "markdown",
   "metadata": {},
   "source": [
    "# Step 3: Build Model, Optimiser and Loss Function"
   ]
  },
  {
   "cell_type": "code",
   "execution_count": 28,
   "metadata": {},
   "outputs": [],
   "source": [
    "# Build Model\n",
    "class SantaCNN(Module):\n",
    "    def __init__(self):\n",
    "        super(SantaCNN, self).__init__()\n",
    "        self.conv = Conv2d(in_channels=3, out_channels=8, kernel_size=(3,3), stride=1, padding=1)\n",
    "        self.pool = AvgPool2d(kernel_size=(3,3), stride=1)\n",
    "        self.relu = LeakyReLU()\n",
    "        self.bn = BatchNorm2d(num_features=8)\n",
    "        self.drop = Dropout2d(p=0.3)\n",
    "        self.fc = Linear(in_features=8*126*126, out_features=2)\n",
    "        \n",
    "    def forward(self, X):\n",
    "        output = self.conv(X)\n",
    "        output = self.pool(output)\n",
    "        output = self.relu(output)\n",
    "        output = self.bn(output)\n",
    "        output = self.drop(output)\n",
    "#         print(output.shape)\n",
    "        output = output.view(-1, 8*126*126)\n",
    "        output = self.fc(output)\n",
    "        return output"
   ]
  },
  {
   "cell_type": "code",
   "execution_count": 29,
   "metadata": {},
   "outputs": [],
   "source": [
    "# Define Model and Migrate to GPU\n",
    "model = SantaCNN().to(device)"
   ]
  },
  {
   "cell_type": "code",
   "execution_count": 30,
   "metadata": {},
   "outputs": [],
   "source": [
    "# Optimiser\n",
    "optimiser = Adam(model.parameters(), lr=3e-4, weight_decay=0.0001)\n",
    "\n",
    "# Loss Function\n",
    "loss_fn = CrossEntropyLoss()"
   ]
  },
  {
   "cell_type": "markdown",
   "metadata": {},
   "source": [
    "# Step 4: Train & Evaluate the Model"
   ]
  },
  {
   "cell_type": "code",
   "execution_count": 31,
   "metadata": {},
   "outputs": [
    {
     "name": "stderr",
     "output_type": "stream",
     "text": [
      "100%|███████████████████████████████████████████████████████████████████████████████| 21/21 [00:10<00:00,  2.04batch/s]\n"
     ]
    },
    {
     "name": "stdout",
     "output_type": "stream",
     "text": [
      "Epoch: 1, Time: 19.869919061660767\n",
      "Tr_loss: 3.7048428058624268, Test_loss: 2.3209755420684814\n",
      ",Tr_acc:0.7003257328990228, Test_acc: 0.7142857142857143\n"
     ]
    },
    {
     "name": "stderr",
     "output_type": "stream",
     "text": [
      "100%|███████████████████████████████████████████████████████████████████████████████| 21/21 [00:10<00:00,  2.04batch/s]\n"
     ]
    },
    {
     "name": "stdout",
     "output_type": "stream",
     "text": [
      "Epoch: 2, Time: 19.753128051757812\n",
      "Tr_loss: 1.3533458709716797, Test_loss: 2.2372357845306396\n",
      ",Tr_acc:0.7736156351791531, Test_acc: 0.8198051948051948\n"
     ]
    },
    {
     "name": "stderr",
     "output_type": "stream",
     "text": [
      "100%|███████████████████████████████████████████████████████████████████████████████| 21/21 [00:10<00:00,  2.05batch/s]\n"
     ]
    },
    {
     "name": "stdout",
     "output_type": "stream",
     "text": [
      "Epoch: 3, Time: 19.707544326782227\n",
      "Tr_loss: 2.1301608085632324, Test_loss: 1.7793744802474976\n",
      ",Tr_acc:0.8371335504885994, Test_acc: 0.8441558441558441\n"
     ]
    },
    {
     "name": "stderr",
     "output_type": "stream",
     "text": [
      "100%|███████████████████████████████████████████████████████████████████████████████| 21/21 [00:10<00:00,  2.06batch/s]\n"
     ]
    },
    {
     "name": "stdout",
     "output_type": "stream",
     "text": [
      "Epoch: 4, Time: 19.645886659622192\n",
      "Tr_loss: 2.2340197563171387, Test_loss: 3.0536932945251465\n",
      ",Tr_acc:0.8192182410423453, Test_acc: 0.8376623376623377\n"
     ]
    },
    {
     "name": "stderr",
     "output_type": "stream",
     "text": [
      "100%|███████████████████████████████████████████████████████████████████████████████| 21/21 [00:10<00:00,  2.06batch/s]\n"
     ]
    },
    {
     "name": "stdout",
     "output_type": "stream",
     "text": [
      "Epoch: 5, Time: 19.57508897781372\n",
      "Tr_loss: 1.0486537218093872, Test_loss: 0.10121412575244904\n",
      ",Tr_acc:0.8420195439739414, Test_acc: 0.8392857142857143\n"
     ]
    },
    {
     "name": "stderr",
     "output_type": "stream",
     "text": [
      "100%|███████████████████████████████████████████████████████████████████████████████| 21/21 [00:10<00:00,  2.05batch/s]\n"
     ]
    },
    {
     "name": "stdout",
     "output_type": "stream",
     "text": [
      "Epoch: 6, Time: 19.67534589767456\n",
      "Tr_loss: 1.7595269680023193, Test_loss: 0.33966130018234253\n",
      ",Tr_acc:0.8534201954397395, Test_acc: 0.8425324675324676\n"
     ]
    },
    {
     "name": "stderr",
     "output_type": "stream",
     "text": [
      "100%|███████████████████████████████████████████████████████████████████████████████| 21/21 [00:10<00:00,  2.08batch/s]\n"
     ]
    },
    {
     "name": "stdout",
     "output_type": "stream",
     "text": [
      "Epoch: 7, Time: 19.516926527023315\n",
      "Tr_loss: 1.1444238424301147, Test_loss: 3.048105001449585\n",
      ",Tr_acc:0.8615635179153095, Test_acc: 0.8474025974025974\n"
     ]
    },
    {
     "name": "stderr",
     "output_type": "stream",
     "text": [
      "100%|███████████████████████████████████████████████████████████████████████████████| 21/21 [00:10<00:00,  2.10batch/s]\n"
     ]
    },
    {
     "name": "stdout",
     "output_type": "stream",
     "text": [
      "Epoch: 8, Time: 19.451460599899292\n",
      "Tr_loss: 3.0073883533477783, Test_loss: 0.9524416327476501\n",
      ",Tr_acc:0.8664495114006515, Test_acc: 0.8538961038961039\n"
     ]
    },
    {
     "name": "stderr",
     "output_type": "stream",
     "text": [
      "100%|███████████████████████████████████████████████████████████████████████████████| 21/21 [00:10<00:00,  2.07batch/s]\n"
     ]
    },
    {
     "name": "stdout",
     "output_type": "stream",
     "text": [
      "Epoch: 9, Time: 19.828624725341797\n",
      "Tr_loss: 2.7535669803619385, Test_loss: 0.15681596100330353\n",
      ",Tr_acc:0.8615635179153095, Test_acc: 0.8198051948051948\n"
     ]
    },
    {
     "name": "stderr",
     "output_type": "stream",
     "text": [
      "100%|███████████████████████████████████████████████████████████████████████████████| 21/21 [00:10<00:00,  2.06batch/s]\n"
     ]
    },
    {
     "name": "stdout",
     "output_type": "stream",
     "text": [
      "Epoch: 10, Time: 19.690664529800415\n",
      "Tr_loss: 4.073576927185059, Test_loss: 0.32946711778640747\n",
      ",Tr_acc:0.8550488599348535, Test_acc: 0.8327922077922078\n"
     ]
    }
   ],
   "source": [
    "for epoch in range(10):\n",
    "    start = time()\n",
    "    train_acc = 0\n",
    "    test_acc = 0\n",
    "\n",
    "# Train\n",
    "    model.train()\n",
    "    with tqdm(train_loader, unit=\"batch\") as tepoch:\n",
    "        for xtrain, ytrain in tepoch:\n",
    "            optimiser.zero_grad()\n",
    "            xtrain = xtrain.to(device)\n",
    "            train_prob = model(xtrain)\n",
    "            train_prob = train_prob.cpu()\n",
    "            train_loss = loss_fn(train_prob, ytrain)\n",
    "            train_loss.backward()\n",
    "            optimiser.step()\n",
    "            # END TRAIN\n",
    "            train_pred = torch.max(train_prob, 1).indices\n",
    "            train_acc += int(torch.sum(train_pred == ytrain))\n",
    "            \n",
    "        train_epoch_accuracy = train_acc / len_train\n",
    "\n",
    "# Evaluate\n",
    "    model.eval()\n",
    "    with torch.no_grad():\n",
    "        for xtest, ytest in test_loader:\n",
    "            xtest = xtest.to(device)\n",
    "            test_prob = model(xtest)\n",
    "            test_prob = test_prob.cpu()\n",
    "            test_loss = loss_fn(test_prob, ytest)\n",
    "            test_pred = torch.max(test_prob, 1).indices\n",
    "            test_acc += int(torch.sum(test_pred == ytest))\n",
    "        \n",
    "        test_epoch_accuracy = test_acc / len_test\n",
    "    \n",
    "    end = time()\n",
    "    \n",
    "    diff = end - start\n",
    "    \n",
    "    print(f\"Epoch: {epoch+1}, Time: {diff}\\nTr_loss: {train_loss}, Test_loss: {test_loss}\\n,Tr_acc:{train_epoch_accuracy}, Test_acc: {test_epoch_accuracy}\")"
   ]
  },
  {
   "cell_type": "markdown",
   "metadata": {},
   "source": [
    "# Model Performance on Samples"
   ]
  },
  {
   "cell_type": "code",
   "execution_count": 42,
   "metadata": {},
   "outputs": [],
   "source": [
    "# Image Samples\n",
    "sample_1 = 'is that santa/test/santa/82.Santa.jpg'\n",
    "sample_2 = 'is that santa/test/santa/325.Santa.jpg'\n",
    "sample_3 = 'is that santa/test/not-a-santa/110.not-a-santa.jpg'\n",
    "sample_4 = 'is that santa/test/not-a-santa/189.not-a-santa.jpg'\n",
    "\n",
    "sample_list = [sample_1,sample_2,sample_3,sample_4]"
   ]
  },
  {
   "cell_type": "code",
   "execution_count": 43,
   "metadata": {},
   "outputs": [
    {
     "data": {
      "image/png": "[encoded data removed]",
      "text/plain": [
       "<PIL.Image.Image image mode=RGB size=100x100 at 0x182EDCDAE80>"
      ]
     },
     "metadata": {},
     "output_type": "display_data"
    },
    {
     "name": "stdout",
     "output_type": "stream",
     "text": [
      "Model Pred: 1\n",
      "Interpretation: Image is Santa\n",
      "===============================================================\n"
     ]
    },
    {
     "data": {
      "image/png": "[encoded data removed]",
      "text/plain": [
       "<PIL.Image.Image image mode=RGB size=100x100 at 0x182EDCD3F70>"
      ]
     },
     "metadata": {},
     "output_type": "display_data"
    },
    {
     "name": "stdout",
     "output_type": "stream",
     "text": [
      "Model Pred: 1\n",
      "Interpretation: Image is Santa\n",
      "===============================================================\n"
     ]
    },
    {
     "data": {
      "image/png": "[encoded data removed]",
      "text/plain": [
       "<PIL.Image.Image image mode=RGB size=100x100 at 0x182EDD102B0>"
      ]
     },
     "metadata": {},
     "output_type": "display_data"
    },
    {
     "name": "stdout",
     "output_type": "stream",
     "text": [
      "Model Pred: 0\n",
      "Interpretation: Image is NOT Santa\n",
      "===============================================================\n"
     ]
    },
    {
     "data": {
      "image/png": "[encoded data removed]",
      "text/plain": [
       "<PIL.Image.Image image mode=RGB size=100x100 at 0x182EDCDAE80>"
      ]
     },
     "metadata": {},
     "output_type": "display_data"
    },
    {
     "name": "stdout",
     "output_type": "stream",
     "text": [
      "Model Pred: 0\n",
      "Interpretation: Image is NOT Santa\n",
      "===============================================================\n"
     ]
    }
   ],
   "source": [
    "# Model Performance\n",
    "for img_path in sample_list:\n",
    "    img = Image.open(img_path)\n",
    "    display(img.resize((100, 100)))\n",
    "    img_tensor = tfm(img)\n",
    "    img_tensor = img_tensor[np.newaxis, :]\n",
    "    img_tensor = img_tensor.to(device)\n",
    "    prob = model(img_tensor)\n",
    "    pred = torch.max(prob, 1).indices\n",
    "    pred = pred.item()\n",
    "    if pred == 0:\n",
    "        print(f\"Model Pred: {pred}\\nInterpretation: Image is NOT Santa\")\n",
    "    else:\n",
    "        print(f\"Model Pred: {pred}\\nInterpretation: Image is Santa\")\n",
    "        \n",
    "    print(\"===============================================================\")"
   ]
  }
 ],
 "metadata": {
  "kernelspec": {
   "display_name": "Python 3 (ipykernel)",
   "language": "python",
   "name": "python3"
  },
  "language_info": {
   "codemirror_mode": {
    "name": "ipython",
    "version": 3
   },
   "file_extension": ".py",
   "mimetype": "text/x-python",
   "name": "python",
   "nbconvert_exporter": "python",
   "pygments_lexer": "ipython3",
   "version": "3.9.12"
  }
 },
 "nbformat": 4,
 "nbformat_minor": 4
}
