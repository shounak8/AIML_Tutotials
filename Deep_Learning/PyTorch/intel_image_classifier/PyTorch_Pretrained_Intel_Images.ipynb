{
 "cells": [
  {
   "cell_type": "code",
   "execution_count": null,
   "metadata": {
    "id": "V_bUTUdXr9ke"
   },
   "outputs": [],
   "source": [
    "# https://www.kaggle.com/datasets/puneet6060/intel-image-classification"
   ]
  },
  {
   "cell_type": "markdown",
   "metadata": {
    "id": "xO12HsXnr9kh"
   },
   "source": [
    "# Step 1: Import Libraries"
   ]
  },
  {
   "cell_type": "code",
   "execution_count": 5,
   "metadata": {
    "id": "_b_cVRiXr9ki"
   },
   "outputs": [],
   "source": [
    "# Libraries\n",
    "import torch\n",
    "from torch.utils.data import DataLoader\n",
    "from torch.optim import Adam\n",
    "import torch.nn as nn\n",
    "from torch.nn import Linear\n",
    "\n",
    "from torchvision.datasets import ImageFolder\n",
    "from torchvision.models.vgg import vgg11\n",
    "from torchvision.transforms import transforms\n",
    "\n",
    "import numpy as np\n",
    "from time import time\n",
    "from tqdm import tqdm\n",
    "import matplotlib.pyplot as plt\n",
    "from PIL import Image \n",
    "\n",
    "# Device\n",
    "device = torch.device(\"cuda\" if torch.cuda.is_available() else \"cpu\")"
   ]
  },
  {
   "cell_type": "markdown",
   "metadata": {
    "id": "gk-n1mdXr9kj"
   },
   "source": [
    "# Step 2: Data Loader"
   ]
  },
  {
   "cell_type": "code",
   "execution_count": 6,
   "metadata": {
    "id": "YzCO3hwyr9kj"
   },
   "outputs": [],
   "source": [
    "# Train and Test Root\n",
    "\n",
    "TRAIN_PATH = \"seg_train/seg_train/\"\n",
    "TEST_PATH = \"seg_test/seg_test/\""
   ]
  },
  {
   "cell_type": "code",
   "execution_count": 7,
   "metadata": {
    "id": "d5TAfmEMr9kk"
   },
   "outputs": [],
   "source": [
    "# Create Transformer Object\n",
    "\n",
    "tfm_obj = transforms.Compose(\n",
    "    [\n",
    "        transforms.Resize((224, 224)),\n",
    "        transforms.RandomHorizontalFlip(),\n",
    "        transforms.ToTensor(),\n",
    "        transforms.Normalize(mean=[0.485, 0.456, 0.406], std=[0.229, 0.224, 0.225]),\n",
    "    ]\n",
    ")\n",
    "\n",
    "# Create Data Loader\n",
    "train_loader = DataLoader(\n",
    "    ImageFolder(root=TRAIN_PATH, transform=tfm_obj), batch_size=30, shuffle=True\n",
    ")\n",
    "test_loader = DataLoader(\n",
    "    ImageFolder(root=TEST_PATH, transform=tfm_obj), batch_size=30, shuffle=True\n",
    ")"
   ]
  },
  {
   "cell_type": "markdown",
   "metadata": {
    "id": "uJwhkYZSr9kk"
   },
   "source": [
    "# Step 3: Create Model"
   ]
  },
  {
   "cell_type": "code",
   "execution_count": 8,
   "metadata": {
    "colab": {
     "base_uri": "https://localhost:8080/",
     "height": 66,
     "referenced_widgets": [
      "78ced1b84fc047219f64415027d5df4b",
      "2057ed04b2f04f3c932aa7457c3f0584",
      "bc662f9411d647e9abcf0d2083d2e358",
      "664c4c083f574106b00d05a41b6a1d92",
      "b44fb148a9154997a8bdae8f60918716",
      "75d7e4f2443c4a5da77fbdc2c8ffb09d",
      "4b50695f32fd4d60a7daee57957d6cf1",
      "bcc1310e821146d497efad925c7c4ac9",
      "34e31e28fe3f419cb866966d4914ba6e",
      "6817d4be686f4494ba9366a08986f50c",
      "3ee2e97244514954a4cde0a772b2ca00"
     ]
    },
    "id": "iEQb0k_ir9kl",
    "outputId": "f502e147-21b7-4b47-81a6-541e4bc35133"
   },
   "outputs": [
    {
     "name": "stderr",
     "output_type": "stream",
     "text": [
      "Downloading: \"https://download.pytorch.org/models/vgg11-8a719046.pth\" to /root/.cache/torch/hub/checkpoints/vgg11-8a719046.pth\n"
     ]
    },
    {
     "data": {
      "application/vnd.jupyter.widget-view+json": {
       "model_id": "78ced1b84fc047219f64415027d5df4b",
       "version_major": 2,
       "version_minor": 0
      },
      "text/plain": [
       "  0%|          | 0.00/507M [00:00<?, ?B/s]"
      ]
     },
     "metadata": {},
     "output_type": "display_data"
    }
   ],
   "source": [
    "# Instantiate the Model \n",
    "model = vgg11(pretrained = True)"
   ]
  },
  {
   "cell_type": "code",
   "execution_count": 9,
   "metadata": {
    "id": "OCM53nbhr9km"
   },
   "outputs": [],
   "source": [
    "# Replace the final layer neurons with number of classes in our dataset (i.e. 6)\n",
    "model.classifier[6] = Linear(in_features=4096, out_features=6)\n",
    "model = model.to(device)"
   ]
  },
  {
   "cell_type": "markdown",
   "metadata": {
    "id": "D3iUbmgKr9km"
   },
   "source": [
    "# Step 4: Train and Evaluate the Model"
   ]
  },
  {
   "cell_type": "code",
   "execution_count": 12,
   "metadata": {
    "id": "y2u0_LdBr9kn"
   },
   "outputs": [],
   "source": [
    "# CONSTANTS\n",
    "EPOCHS = 5\n",
    "optimizer = Adam(model.parameters(), lr=0.001, weight_decay=0.0005)\n",
    "loss_fn = nn.CrossEntropyLoss()\n",
    "TRAIN_COUNT, TEST_COUNT = len(ImageFolder(TRAIN_PATH)), len(ImageFolder(TEST_PATH))"
   ]
  },
  {
   "cell_type": "code",
   "execution_count": 13,
   "metadata": {
    "colab": {
     "base_uri": "https://localhost:8080/"
    },
    "id": "47hXWtfar9kn",
    "outputId": "74fcaf76-0195-4d01-caea-5a6c06db18ee"
   },
   "outputs": [
    {
     "name": "stderr",
     "output_type": "stream",
     "text": [
      "100%|██████████| 468/468 [02:02<00:00,  3.82batch/s]\n"
     ]
    },
    {
     "name": "stdout",
     "output_type": "stream",
     "text": [
      "Ep: 0, time_cost: 2.2866632461547853,\n",
      " tr_loss: 0.17394177615642548, tst_loss: 0.1496601551771164,\n",
      " tr_acc: 0.8119566766424398, tst_acc: 0.8483333333333334\n"
     ]
    },
    {
     "name": "stderr",
     "output_type": "stream",
     "text": [
      "100%|██████████| 468/468 [02:01<00:00,  3.84batch/s]\n"
     ]
    },
    {
     "name": "stdout",
     "output_type": "stream",
     "text": [
      "Ep: 1, time_cost: 2.275935781002045,\n",
      " tr_loss: 1.0971077680587769, tst_loss: 0.5698986649513245,\n",
      " tr_acc: 0.8354709990024227, tst_acc: 0.7776666666666666\n"
     ]
    },
    {
     "name": "stderr",
     "output_type": "stream",
     "text": [
      "100%|██████████| 468/468 [02:01<00:00,  3.84batch/s]\n"
     ]
    },
    {
     "name": "stdout",
     "output_type": "stream",
     "text": [
      "Ep: 2, time_cost: 2.276253588994344,\n",
      " tr_loss: 0.4057497978210449, tst_loss: 0.3980211615562439,\n",
      " tr_acc: 0.8451617500356278, tst_acc: 0.8403333333333334\n"
     ]
    },
    {
     "name": "stderr",
     "output_type": "stream",
     "text": [
      "100%|██████████| 468/468 [02:01<00:00,  3.84batch/s]\n"
     ]
    },
    {
     "name": "stdout",
     "output_type": "stream",
     "text": [
      "Ep: 3, time_cost: 2.285408600171407,\n",
      " tr_loss: 0.629934549331665, tst_loss: 0.3430274724960327,\n",
      " tr_acc: 0.8601966652415562, tst_acc: 0.858\n"
     ]
    },
    {
     "name": "stderr",
     "output_type": "stream",
     "text": [
      "100%|██████████| 468/468 [02:01<00:00,  3.85batch/s]\n"
     ]
    },
    {
     "name": "stdout",
     "output_type": "stream",
     "text": [
      "Ep: 4, time_cost: 2.2713659524917604,\n",
      " tr_loss: 0.1827244609594345, tst_loss: 0.5637221932411194,\n",
      " tr_acc: 0.864329485535129, tst_acc: 0.8666666666666667\n"
     ]
    }
   ],
   "source": [
    "# TRAIN & TEST MODEL\n",
    "\n",
    "train_loss_list = []\n",
    "train_acc_list = []\n",
    "test_loss_list = []\n",
    "test_acc_list = []\n",
    "\n",
    "for epoch in range(EPOCHS):\n",
    "    start = time()\n",
    "    \n",
    "    tr_acc = 0\n",
    "    tst_acc = 0\n",
    "    \n",
    "    # Train\n",
    "    \n",
    "    model.train()\n",
    "    \n",
    "    with tqdm(train_loader, unit=\"batch\") as tepoch:\n",
    "        for xtrain, ytrain in tepoch:\n",
    "            xtrain = xtrain.cuda()\n",
    "            optimizer.zero_grad()\n",
    "            train_output = model(xtrain)\n",
    "            train_output = train_output.cpu()\n",
    "            loss = loss_fn(train_output, ytrain)\n",
    "            loss.backward()\n",
    "            optimizer.step()\n",
    "\n",
    "            ytrain_pred = torch.max(train_output,1).indices\n",
    "            tr_acc += int(torch.sum(ytrain_pred == ytrain))\n",
    "    \n",
    "    # Evaluate\n",
    "    \n",
    "    model.eval()\n",
    "    with torch.no_grad():\n",
    "        for xtest, ytest in test_loader:\n",
    "            xtest = xtest.cuda()\n",
    "            test_output = model(xtest)\n",
    "            test_output = test_output.cpu()\n",
    "            test_loss = loss_fn(test_output, ytest)\n",
    "            ytest_pred = torch.max(test_output, 1).indices\n",
    "            tst_acc += int(torch.sum(ytest_pred == ytest))\n",
    "\n",
    "    ep_tr_acc = tr_acc / TRAIN_COUNT\n",
    "    ep_tst_acc = tst_acc / TEST_COUNT\n",
    "\n",
    "    train_loss_list.append(loss)\n",
    "    train_acc_list.append(ep_tr_acc)\n",
    "\n",
    "    test_loss_list.append(test_loss)\n",
    "    test_acc_list.append(ep_tst_acc)\n",
    "        \n",
    "    end = time()\n",
    "    \n",
    "    duration = (end-start)/60\n",
    "    \n",
    "    print(f\"Ep: {epoch}, time_cost: {duration},\\n tr_loss: {loss}, tst_loss: {test_loss},\\n tr_acc: {ep_tr_acc}, tst_acc: {ep_tst_acc}\")"
   ]
  },
  {
   "cell_type": "code",
   "execution_count": 20,
   "metadata": {
    "colab": {
     "base_uri": "https://localhost:8080/",
     "height": 282
    },
    "id": "WNsA-VZCr9ko",
    "outputId": "e6bdd2ee-8f58-4481-cbe1-6a6fe44e8d65"
   },
   "outputs": [
    {
     "data": {
      "text/plain": [
       "<matplotlib.legend.Legend at 0x7f3444779e10>"
      ]
     },
     "execution_count": 20,
     "metadata": {},
     "output_type": "execute_result"
    },
    {
     "data": {
      "image/png": "[encoded data removed]",
      "text/plain": [
       "<Figure size 432x288 with 1 Axes>"
      ]
     },
     "metadata": {
      "needs_background": "light"
     },
     "output_type": "display_data"
    }
   ],
   "source": [
    "# Train Metrics\n",
    "# Loss\n",
    "\n",
    "plt.plot(range(EPOCHS),train_acc_list, label=\"train acc\")\n",
    "\n",
    "plt.plot(range(EPOCHS),test_acc_list, label=\"test acc\")\n",
    "plt.legend()"
   ]
  },
  {
   "cell_type": "markdown",
   "metadata": {
    "id": "agy6DE24r9kp"
   },
   "source": [
    "# Model Performance Demonstration"
   ]
  },
  {
   "cell_type": "code",
   "execution_count": 15,
   "metadata": {
    "id": "TmiM2rQXr9kp"
   },
   "outputs": [],
   "source": [
    "# Index mapping for the dataframe\n",
    "\n",
    "idx_to_class = {0: 'buildings',\n",
    " 1: 'forest',\n",
    " 2: 'glacier',\n",
    " 3: 'mountain',\n",
    " 4: 'sea',\n",
    " 5: 'street'}"
   ]
  },
  {
   "cell_type": "code",
   "execution_count": 18,
   "metadata": {
    "id": "2moOc2Pnr9kp"
   },
   "outputs": [],
   "source": [
    "sample_image_1 = \"seg_pred/seg_pred/10021.jpg\"\n",
    "sample_image_2 = \"seg_pred/seg_pred/10038.jpg\"\n",
    "sample_image_3 = \"seg_pred/seg_pred/10409.jpg\"\n",
    "sample_image_4 = \"seg_pred/seg_pred/10768.jpg\"\n",
    "\n",
    "img_list = [sample_image_1, sample_image_2, sample_image_3, sample_image_4]"
   ]
  },
  {
   "cell_type": "code",
   "execution_count": 19,
   "metadata": {
    "colab": {
     "base_uri": "https://localhost:8080/",
     "height": 556
    },
    "id": "3tdnsuAkr9kq",
    "outputId": "e01bb7f3-6cdc-4da5-e1d5-c4acd785e219"
   },
   "outputs": [
    {
     "data": {
      "image/png": "[encoded data removed]",
      "text/plain": [
       "<PIL.Image.Image image mode=RGB size=100x100 at 0x7F34445E7A10>"
      ]
     },
     "metadata": {},
     "output_type": "display_data"
    },
    {
     "name": "stdout",
     "output_type": "stream",
     "text": [
      "forest\n",
      "====================================\n"
     ]
    },
    {
     "data": {
      "image/png": "[encoded data removed]",
      "text/plain": [
       "<PIL.Image.Image image mode=RGB size=100x100 at 0x7F34445E7D50>"
      ]
     },
     "metadata": {},
     "output_type": "display_data"
    },
    {
     "name": "stdout",
     "output_type": "stream",
     "text": [
      "sea\n",
      "====================================\n"
     ]
    },
    {
     "data": {
      "image/png": "[encoded data removed]",
      "text/plain": [
       "<PIL.Image.Image image mode=RGB size=100x100 at 0x7F34445E7D50>"
      ]
     },
     "metadata": {},
     "output_type": "display_data"
    },
    {
     "name": "stdout",
     "output_type": "stream",
     "text": [
      "mountain\n",
      "====================================\n"
     ]
    },
    {
     "data": {
      "image/png": "[encoded data removed]",
      "text/plain": [
       "<PIL.Image.Image image mode=RGB size=100x100 at 0x7F34445F5190>"
      ]
     },
     "metadata": {},
     "output_type": "display_data"
    },
    {
     "name": "stdout",
     "output_type": "stream",
     "text": [
      "forest\n",
      "====================================\n"
     ]
    }
   ],
   "source": [
    "# Model Performance\n",
    "for img_path in img_list:\n",
    "    img = Image.open(img_path)\n",
    "    display(img.resize((100, 100)))\n",
    "    img_tensor = tfm_obj(img)\n",
    "    img_tensor = img_tensor[np.newaxis, :]\n",
    "    img_tensor = img_tensor.to(device)\n",
    "    prob = model(img_tensor)\n",
    "    pred = torch.max(prob, 1).indices\n",
    "    pred = pred.item()\n",
    "    print(idx_to_class[pred])\n",
    "    print(\"====================================\")"
   ]
  },
  {
   "cell_type": "markdown",
   "metadata": {
    "id": "Zv5Pl0NTr9kq"
   },
   "source": [
    "---\n",
    "## Author:\n",
    "Notebook by Shounak Deshpande<br>\n",
    "Email: shounak.python@gmail.com"
   ]
  }
 ],
 "metadata": {
  "accelerator": "GPU",
  "colab": {
   "collapsed_sections": [],
   "name": "PyTorch_Pretrained_Intel_Images.ipynb",
   "provenance": []
  },
  "gpuClass": "standard",
  "kernelspec": {
   "display_name": "Python 3 (ipykernel)",
   "language": "python",
   "name": "python3"
  },
  "language_info": {
   "codemirror_mode": {
    "name": "ipython",
    "version": 3
   },
   "file_extension": ".py",
   "mimetype": "text/x-python",
   "name": "python",
   "nbconvert_exporter": "python",
   "pygments_lexer": "ipython3",
   "version": "3.9.12"
  },
  "widgets": {
   "application/vnd.jupyter.widget-state+json": {
    "2057ed04b2f04f3c932aa7457c3f0584": {
     "model_module": "@jupyter-widgets/controls",
     "model_module_version": "1.5.0",
     "model_name": "HTMLModel",
     "state": {
      "_dom_classes": [],
      "_model_module": "@jupyter-widgets/controls",
      "_model_module_version": "1.5.0",
      "_model_name": "HTMLModel",
      "_view_count": null,
      "_view_module": "@jupyter-widgets/controls",
      "_view_module_version": "1.5.0",
      "_view_name": "HTMLView",
      "description": "",
      "description_tooltip": null,
      "layout": "IPY_MODEL_75d7e4f2443c4a5da77fbdc2c8ffb09d",
      "placeholder": "​",
      "style": "IPY_MODEL_4b50695f32fd4d60a7daee57957d6cf1",
      "value": "100%"
     }
    },
    "34e31e28fe3f419cb866966d4914ba6e": {
     "model_module": "@jupyter-widgets/controls",
     "model_module_version": "1.5.0",
     "model_name": "ProgressStyleModel",
     "state": {
      "_model_module": "@jupyter-widgets/controls",
      "_model_module_version": "1.5.0",
      "_model_name": "ProgressStyleModel",
      "_view_count": null,
      "_view_module": "@jupyter-widgets/base",
      "_view_module_version": "1.2.0",
      "_view_name": "StyleView",
      "bar_color": null,
      "description_width": ""
     }
    },
    "3ee2e97244514954a4cde0a772b2ca00": {
     "model_module": "@jupyter-widgets/controls",
     "model_module_version": "1.5.0",
     "model_name": "DescriptionStyleModel",
     "state": {
      "_model_module": "@jupyter-widgets/controls",
      "_model_module_version": "1.5.0",
      "_model_name": "DescriptionStyleModel",
      "_view_count": null,
      "_view_module": "@jupyter-widgets/base",
      "_view_module_version": "1.2.0",
      "_view_name": "StyleView",
      "description_width": ""
     }
    },
    "4b50695f32fd4d60a7daee57957d6cf1": {
     "model_module": "@jupyter-widgets/controls",
     "model_module_version": "1.5.0",
     "model_name": "DescriptionStyleModel",
     "state": {
      "_model_module": "@jupyter-widgets/controls",
      "_model_module_version": "1.5.0",
      "_model_name": "DescriptionStyleModel",
      "_view_count": null,
      "_view_module": "@jupyter-widgets/base",
      "_view_module_version": "1.2.0",
      "_view_name": "StyleView",
      "description_width": ""
     }
    },
    "664c4c083f574106b00d05a41b6a1d92": {
     "model_module": "@jupyter-widgets/controls",
     "model_module_version": "1.5.0",
     "model_name": "HTMLModel",
     "state": {
      "_dom_classes": [],
      "_model_module": "@jupyter-widgets/controls",
      "_model_module_version": "1.5.0",
      "_model_name": "HTMLModel",
      "_view_count": null,
      "_view_module": "@jupyter-widgets/controls",
      "_view_module_version": "1.5.0",
      "_view_name": "HTMLView",
      "description": "",
      "description_tooltip": null,
      "layout": "IPY_MODEL_6817d4be686f4494ba9366a08986f50c",
      "placeholder": "​",
      "style": "IPY_MODEL_3ee2e97244514954a4cde0a772b2ca00",
      "value": " 507M/507M [00:03&lt;00:00, 124MB/s]"
     }
    },
    "6817d4be686f4494ba9366a08986f50c": {
     "model_module": "@jupyter-widgets/base",
     "model_module_version": "1.2.0",
     "model_name": "LayoutModel",
     "state": {
      "_model_module": "@jupyter-widgets/base",
      "_model_module_version": "1.2.0",
      "_model_name": "LayoutModel",
      "_view_count": null,
      "_view_module": "@jupyter-widgets/base",
      "_view_module_version": "1.2.0",
      "_view_name": "LayoutView",
      "align_content": null,
      "align_items": null,
      "align_self": null,
      "border": null,
      "bottom": null,
      "display": null,
      "flex": null,
      "flex_flow": null,
      "grid_area": null,
      "grid_auto_columns": null,
      "grid_auto_flow": null,
      "grid_auto_rows": null,
      "grid_column": null,
      "grid_gap": null,
      "grid_row": null,
      "grid_template_areas": null,
      "grid_template_columns": null,
      "grid_template_rows": null,
      "height": null,
      "justify_content": null,
      "justify_items": null,
      "left": null,
      "margin": null,
      "max_height": null,
      "max_width": null,
      "min_height": null,
      "min_width": null,
      "object_fit": null,
      "object_position": null,
      "order": null,
      "overflow": null,
      "overflow_x": null,
      "overflow_y": null,
      "padding": null,
      "right": null,
      "top": null,
      "visibility": null,
      "width": null
     }
    },
    "75d7e4f2443c4a5da77fbdc2c8ffb09d": {
     "model_module": "@jupyter-widgets/base",
     "model_module_version": "1.2.0",
     "model_name": "LayoutModel",
     "state": {
      "_model_module": "@jupyter-widgets/base",
      "_model_module_version": "1.2.0",
      "_model_name": "LayoutModel",
      "_view_count": null,
      "_view_module": "@jupyter-widgets/base",
      "_view_module_version": "1.2.0",
      "_view_name": "LayoutView",
      "align_content": null,
      "align_items": null,
      "align_self": null,
      "border": null,
      "bottom": null,
      "display": null,
      "flex": null,
      "flex_flow": null,
      "grid_area": null,
      "grid_auto_columns": null,
      "grid_auto_flow": null,
      "grid_auto_rows": null,
      "grid_column": null,
      "grid_gap": null,
      "grid_row": null,
      "grid_template_areas": null,
      "grid_template_columns": null,
      "grid_template_rows": null,
      "height": null,
      "justify_content": null,
      "justify_items": null,
      "left": null,
      "margin": null,
      "max_height": null,
      "max_width": null,
      "min_height": null,
      "min_width": null,
      "object_fit": null,
      "object_position": null,
      "order": null,
      "overflow": null,
      "overflow_x": null,
      "overflow_y": null,
      "padding": null,
      "right": null,
      "top": null,
      "visibility": null,
      "width": null
     }
    },
    "78ced1b84fc047219f64415027d5df4b": {
     "model_module": "@jupyter-widgets/controls",
     "model_module_version": "1.5.0",
     "model_name": "HBoxModel",
     "state": {
      "_dom_classes": [],
      "_model_module": "@jupyter-widgets/controls",
      "_model_module_version": "1.5.0",
      "_model_name": "HBoxModel",
      "_view_count": null,
      "_view_module": "@jupyter-widgets/controls",
      "_view_module_version": "1.5.0",
      "_view_name": "HBoxView",
      "box_style": "",
      "children": [
       "IPY_MODEL_2057ed04b2f04f3c932aa7457c3f0584",
       "IPY_MODEL_bc662f9411d647e9abcf0d2083d2e358",
       "IPY_MODEL_664c4c083f574106b00d05a41b6a1d92"
      ],
      "layout": "IPY_MODEL_b44fb148a9154997a8bdae8f60918716"
     }
    },
    "b44fb148a9154997a8bdae8f60918716": {
     "model_module": "@jupyter-widgets/base",
     "model_module_version": "1.2.0",
     "model_name": "LayoutModel",
     "state": {
      "_model_module": "@jupyter-widgets/base",
      "_model_module_version": "1.2.0",
      "_model_name": "LayoutModel",
      "_view_count": null,
      "_view_module": "@jupyter-widgets/base",
      "_view_module_version": "1.2.0",
      "_view_name": "LayoutView",
      "align_content": null,
      "align_items": null,
      "align_self": null,
      "border": null,
      "bottom": null,
      "display": null,
      "flex": null,
      "flex_flow": null,
      "grid_area": null,
      "grid_auto_columns": null,
      "grid_auto_flow": null,
      "grid_auto_rows": null,
      "grid_column": null,
      "grid_gap": null,
      "grid_row": null,
      "grid_template_areas": null,
      "grid_template_columns": null,
      "grid_template_rows": null,
      "height": null,
      "justify_content": null,
      "justify_items": null,
      "left": null,
      "margin": null,
      "max_height": null,
      "max_width": null,
      "min_height": null,
      "min_width": null,
      "object_fit": null,
      "object_position": null,
      "order": null,
      "overflow": null,
      "overflow_x": null,
      "overflow_y": null,
      "padding": null,
      "right": null,
      "top": null,
      "visibility": null,
      "width": null
     }
    },
    "bc662f9411d647e9abcf0d2083d2e358": {
     "model_module": "@jupyter-widgets/controls",
     "model_module_version": "1.5.0",
     "model_name": "FloatProgressModel",
     "state": {
      "_dom_classes": [],
      "_model_module": "@jupyter-widgets/controls",
      "_model_module_version": "1.5.0",
      "_model_name": "FloatProgressModel",
      "_view_count": null,
      "_view_module": "@jupyter-widgets/controls",
      "_view_module_version": "1.5.0",
      "_view_name": "ProgressView",
      "bar_style": "success",
      "description": "",
      "description_tooltip": null,
      "layout": "IPY_MODEL_bcc1310e821146d497efad925c7c4ac9",
      "max": 531460341,
      "min": 0,
      "orientation": "horizontal",
      "style": "IPY_MODEL_34e31e28fe3f419cb866966d4914ba6e",
      "value": 531460341
     }
    },
    "bcc1310e821146d497efad925c7c4ac9": {
     "model_module": "@jupyter-widgets/base",
     "model_module_version": "1.2.0",
     "model_name": "LayoutModel",
     "state": {
      "_model_module": "@jupyter-widgets/base",
      "_model_module_version": "1.2.0",
      "_model_name": "LayoutModel",
      "_view_count": null,
      "_view_module": "@jupyter-widgets/base",
      "_view_module_version": "1.2.0",
      "_view_name": "LayoutView",
      "align_content": null,
      "align_items": null,
      "align_self": null,
      "border": null,
      "bottom": null,
      "display": null,
      "flex": null,
      "flex_flow": null,
      "grid_area": null,
      "grid_auto_columns": null,
      "grid_auto_flow": null,
      "grid_auto_rows": null,
      "grid_column": null,
      "grid_gap": null,
      "grid_row": null,
      "grid_template_areas": null,
      "grid_template_columns": null,
      "grid_template_rows": null,
      "height": null,
      "justify_content": null,
      "justify_items": null,
      "left": null,
      "margin": null,
      "max_height": null,
      "max_width": null,
      "min_height": null,
      "min_width": null,
      "object_fit": null,
      "object_position": null,
      "order": null,
      "overflow": null,
      "overflow_x": null,
      "overflow_y": null,
      "padding": null,
      "right": null,
      "top": null,
      "visibility": null,
      "width": null
     }
    }
   }
  }
 },
 "nbformat": 4,
 "nbformat_minor": 1
}
